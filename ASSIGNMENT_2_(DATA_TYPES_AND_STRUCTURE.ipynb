{
  "nbformat": 4,
  "nbformat_minor": 0,
  "metadata": {
    "colab": {
      "provenance": []
    },
    "kernelspec": {
      "name": "python3",
      "display_name": "Python 3"
    },
    "language_info": {
      "name": "python"
    }
  },
  "cells": [
    {
      "cell_type": "markdown",
      "source": [
        "   #ASSIGNMENT2:- DATA TYPES AND STRUCTURE\n",
        "              \n",
        "              THEORY QUESTION"
      ],
      "metadata": {
        "id": "ivxbuCH3xgq2"
      }
    },
    {
      "cell_type": "markdown",
      "source": [
        "#1. What are data structures, and why are they important?\n",
        "=> Data structures are the way of organizing and storing the data so that it can be accessed and modified efficiently. eg, Tuple, String, List, Dictionary, array etc.\n",
        "They are important because they are crucial for efficient data management and algorithm implementation, impacting the performance and scalability of software applications.\n",
        "\n",
        "\n",
        "#2. Explain the difference between mutable and immutable data types with examples?\n",
        "=> Mutable data types are the type of data type which can be changed after its creation. eg, lists, dictionary, etc.\n",
        "Eg: list=[1,2,3] list[0]=4 #here now the original list[1,2,3] after list[0]=4 has become list[4,2,3]\n",
        "Immutable data types are the type of data type which cannot be changed after its creation. eg, Tuple, String\n",
        "Eg, my_tuple = (1, 2, 3)\n",
        "my_tuple[0] = 4 # This will raise a TypeError\n",
        "\n",
        "\n",
        "#3. What are the main differences between lists and tuples in Python?\n",
        "=> Main Differences Between Lists and Tuples in Python:\n",
        "Lists are mutable, tuples are immutable.\n",
        "Tuples are generally faster than lists due to their immutability.\n",
        "Tuples use less memory compared to lists\n",
        "\n",
        "\n",
        "#4. Describe how dictionaries store data?\n",
        "=>Dictionaries store data in key-value pairs. Each key is hashed to a unique index in an array where the corresponding value is stored.\n",
        "eg, dict = {'name': 'Sonu', 'age': 26}\n",
        "here name is key while Sonu is value of key.\n",
        "\n",
        "\n",
        "#5. Why might you use a set instead of a list in Python?\n",
        "=>Sets autimatically removes duplicate values while List don't do that.\n",
        "Also sets provides faster membership tests compared to lists.\n",
        "\n",
        "\n",
        "#6. What is a string in Python, and how is it different from a list?\n",
        "=>String is the sequence of characters which is immutable in nature and it contains only string data types and no other data types.\n",
        "While in other hand Lists are collection of items and is mutable data structure which can contains multiple data types.\n",
        "\n",
        "\n",
        "#7. How do tuples ensure data integrity in Python?\n",
        "=>Since tuples are immutable in nature thats why, Once created, the elements of a tuple cannot be changed, ensuring that the data remains constant.\n",
        "\n",
        "\n",
        "#8. What is a hash table, and how does it relate to dictionaries in Python?\n",
        "=>Hash Table: A data structure that maps keys to values using a hash function to compute an index into an array of buckets or slots.\n",
        "Relation to Dictionaries: Python dictionaries are implemented using hash tables.\n",
        "\n",
        "\n",
        "#9. Can lists contain different data types in Python?\n",
        "=> Yes: Lists can contain elements of different data types, such as integers, strings, and even other lists.\n",
        "eg, mylist=[1,'Sonu',3.5]\n",
        "\n",
        "\n",
        "#10. Explain why strings are immutable in Python?\n",
        "=>Immutability helps with performance optimization, memory efficiency, and thread safety. It also allows strings to be used as keys in dictionaries.\n",
        "\n",
        "\n",
        "#11. What advantages do dictionaries offer over lists for certain tasks?\n",
        "=>Key-Value Mapping: Efficient for lookups, insertions, and deletions based on keys.\n",
        "Example: Storing user information where quick access to user details by username is needed.\n",
        "\n",
        "\n",
        "#12. Describe a scenario where using a tuple would be preferable over a list.\n",
        "=>Storing coordinates of a point (x, y) where the values should not change.\n",
        "\n",
        "\n",
        "#13. How do sets handle duplicate values in Python?\n",
        "=>Python set data structures inherently do not allow duplicate values. When we attempt to add duplicate values to a set, or when we create a set from an iterable that contains duplicates, the set will automatically discard the duplicates, storing only one instance of each unique element.\n",
        "\n",
        "\n",
        "#14. How does the “in” keyword work differently for lists and dictionaries?\n",
        "=>In List \"in\" Checks for the presence of a value as an element.\n",
        "In Dictionary \"in\" checks for the presence of a key.\n",
        "\n",
        "\n",
        "#15. Can you modify the elements of a tuple? Explain why or why not?\n",
        "=>Since Tuples data structure is immutable, meaning we cannot modify the elements of tuples once its created.\n",
        "\n",
        "\n",
        "#16. What is a nested dictionary, and give an example of its use case?\n",
        "=>A nested dictionary is the dictionary within another dictionary.\n",
        "nested_dict = {'user1': {'name': 'Sonu', 'age': 25}, 'user2': {'name': 'Mantu', 'age': 22}}\n",
        "\n",
        "\n",
        "#17. Describe the time complexity of accessing elements in a dictionary.\n",
        "=>The time complexity of accessing elements in a Python dictionary (ie., looking up a value using its key) is, on average, O(1) (constant time).\n",
        "\n",
        "\n",
        "#18. In what situations are lists preferred over dictionaries?\n",
        "=>When data naturally fits a sequence, where order and positional access are important, and duplicates are acceptable, a list is the preffered choice.\n",
        "\n",
        "\n",
        "#19. Why are dictionaries considered unordered, and how does that affect data retrieval?\n",
        "=>Dictionaries are designed for fast, direct access to values when we have the unique key. Their \"unordered\" nature means we trade index-based access for extremely efficient key-based retrieval, making them ideal for mapping and lookup tasks.\n",
        "We cannot retrieve items using integer indices like my_dict[0]. We must know the exact key to retrieve its associated value.\n",
        "Data retrieval is inherently driven by the key. If we don't know the key, we have to iterate through the dictionary's keys or values to find what we're looking for, which is less efficient than a direct key lookup.\n",
        "\n",
        "\n",
        "#20. Explain the difference between a list and a dictionary in terms of data retrieval.\n",
        "=>Lists are for ordered collections where you want to retrieve \"the Nth item,\" like List[1]. - while dictionaries are for unordered collections where you want to retrieve \"the item named X. eg, my_dict = {'name': 'Sonu', 'age': 26, 'city': 'Nashik'} person_name = my_dict['name'] person_age = my_age['age']"
      ],
      "metadata": {
        "id": "7HGRsIDhyge1"
      }
    },
    {
      "cell_type": "markdown",
      "source": [
        "                          \n",
        "                        PRACTICAL QUESTION"
      ],
      "metadata": {
        "id": "qBAxBUPf1qYm"
      }
    },
    {
      "cell_type": "code",
      "execution_count": 1,
      "metadata": {
        "colab": {
          "base_uri": "https://localhost:8080/"
        },
        "id": "wgHTvfrnxfBb",
        "outputId": "4c7d5fa7-67f7-49c7-bcdb-0d2144f745ea"
      },
      "outputs": [
        {
          "output_type": "stream",
          "name": "stdout",
          "text": [
            "JATIN KUMAR\n"
          ]
        }
      ],
      "source": [
        "#1. Write a code to create a string with your name and print it.\n",
        "name = \"JATIN KUMAR\"\n",
        "print(name)"
      ]
    },
    {
      "cell_type": "code",
      "source": [
        "#2. Write a code to find the length of the string \"Hello World\".\n",
        "print(len(\"Hello World\"))"
      ],
      "metadata": {
        "colab": {
          "base_uri": "https://localhost:8080/"
        },
        "id": "bnxCJwkG3SlE",
        "outputId": "fd114847-03de-4174-bd0f-d8b52e2273fa"
      },
      "execution_count": 2,
      "outputs": [
        {
          "output_type": "stream",
          "name": "stdout",
          "text": [
            "11\n"
          ]
        }
      ]
    },
    {
      "cell_type": "code",
      "source": [
        "#3. Write a code to slice the first 3 characters from the string \"Python Programming\".\n",
        "string = \"PYTHON PROGRAMMING\"\n",
        "sliced_string = string[:3]\n",
        "print(sliced_string)"
      ],
      "metadata": {
        "colab": {
          "base_uri": "https://localhost:8080/"
        },
        "id": "CGNyWkKW3bS4",
        "outputId": "a4edc5fc-a565-456f-ff52-7aa154bcb1ac"
      },
      "execution_count": 4,
      "outputs": [
        {
          "output_type": "stream",
          "name": "stdout",
          "text": [
            "PYT\n"
          ]
        }
      ]
    },
    {
      "cell_type": "code",
      "source": [
        "#4. Write a code to convert the string \"hello\" to uppercase.\n",
        "string=\"hello\"\n",
        "uprString = string.upper()\n",
        "print(uprString)"
      ],
      "metadata": {
        "colab": {
          "base_uri": "https://localhost:8080/"
        },
        "id": "QkZKC9023quH",
        "outputId": "b3cc4aa7-9a8d-4ca8-8f5e-3c7fceeef6b9"
      },
      "execution_count": 5,
      "outputs": [
        {
          "output_type": "stream",
          "name": "stdout",
          "text": [
            "HELLO\n"
          ]
        }
      ]
    },
    {
      "cell_type": "code",
      "source": [
        "#5. Write a code to replace the word \"apple\" with \"orange\" in the string \"I like apple\".\n",
        "string = \"I like apple\"\n",
        "str = string.replace(\"apple\", \"orange\")\n",
        "print(str)"
      ],
      "metadata": {
        "colab": {
          "base_uri": "https://localhost:8080/"
        },
        "id": "3HYtML2W4o8v",
        "outputId": "e1c5a67b-e300-4b9d-8c80-9674493051f4"
      },
      "execution_count": 10,
      "outputs": [
        {
          "output_type": "stream",
          "name": "stdout",
          "text": [
            "I like orange\n"
          ]
        }
      ]
    },
    {
      "cell_type": "code",
      "source": [
        "#6. Write a code to create a list with numbers 1 to 5 and print it.\n",
        "List= [1,2,3,4,5]\n",
        "print(List)"
      ],
      "metadata": {
        "colab": {
          "base_uri": "https://localhost:8080/"
        },
        "id": "U21JT1wB5CSm",
        "outputId": "a1d11609-29e4-42f4-aaa4-657ceaa4a71f"
      },
      "execution_count": 15,
      "outputs": [
        {
          "output_type": "stream",
          "name": "stdout",
          "text": [
            "[1, 2, 3, 4, 5]\n"
          ]
        }
      ]
    },
    {
      "cell_type": "code",
      "source": [
        "#7. Write a code to append the number 10 to the list [1, 2, 3, 4].\n",
        "List=[1, 2, 3, 4]\n",
        "List.append(10)\n",
        "print(List)"
      ],
      "metadata": {
        "colab": {
          "base_uri": "https://localhost:8080/"
        },
        "id": "UmkQSmpr5wbx",
        "outputId": "d589d676-7987-46d9-c7b1-ed3c651bea02"
      },
      "execution_count": 16,
      "outputs": [
        {
          "output_type": "stream",
          "name": "stdout",
          "text": [
            "[1, 2, 3, 4, 10]\n"
          ]
        }
      ]
    },
    {
      "cell_type": "code",
      "source": [
        "#8. Write a code to remove the number 3 from the list [1, 2, 3, 4, 5].\n",
        "List= [1, 2, 3, 4, 5]\n",
        "List.remove(3)\n",
        "print(List)"
      ],
      "metadata": {
        "colab": {
          "base_uri": "https://localhost:8080/"
        },
        "id": "g0UryS2e58-1",
        "outputId": "9ecaf2c7-df3d-450b-c561-0c55df5b38d1"
      },
      "execution_count": 17,
      "outputs": [
        {
          "output_type": "stream",
          "name": "stdout",
          "text": [
            "[1, 2, 4, 5]\n"
          ]
        }
      ]
    },
    {
      "cell_type": "code",
      "source": [
        "#9. Write a code to access the second element in the list ['a', 'b', 'c', 'd'].\n",
        "List=['a', 'b', 'c', 'd']\n",
        "print(List[1])"
      ],
      "metadata": {
        "colab": {
          "base_uri": "https://localhost:8080/"
        },
        "id": "bwNkJ4Lk6dBF",
        "outputId": "46cfcc52-6150-4bfb-940d-6def6da93d9f"
      },
      "execution_count": 19,
      "outputs": [
        {
          "output_type": "stream",
          "name": "stdout",
          "text": [
            "b\n"
          ]
        }
      ]
    },
    {
      "cell_type": "code",
      "source": [
        "#10. Write a code to reverse the list [10, 20, 30, 40, 50].\n",
        "List=[10, 20, 30, 40, 50]\n",
        "print(List[::-1])"
      ],
      "metadata": {
        "colab": {
          "base_uri": "https://localhost:8080/"
        },
        "id": "Ts0f_q336m_W",
        "outputId": "387b6a05-da94-4238-e764-ab7418291dd9"
      },
      "execution_count": 20,
      "outputs": [
        {
          "output_type": "stream",
          "name": "stdout",
          "text": [
            "[50, 40, 30, 20, 10]\n"
          ]
        }
      ]
    },
    {
      "cell_type": "code",
      "source": [
        "#11. Write a code to create a tuple with the elements 100, 200, 300 and print it.\n",
        "Tuple = (100, 200, 300)\n",
        "print(Tuple)"
      ],
      "metadata": {
        "colab": {
          "base_uri": "https://localhost:8080/"
        },
        "id": "SKr8uPKt6w8C",
        "outputId": "93fe6497-d941-4286-a647-e9c1dba82adc"
      },
      "execution_count": 22,
      "outputs": [
        {
          "output_type": "stream",
          "name": "stdout",
          "text": [
            "(100, 200, 300)\n"
          ]
        }
      ]
    },
    {
      "cell_type": "code",
      "source": [
        "#12. Write a code to access the second-to-last element of the tuple ('red', 'green', 'blue', 'yellow').\n",
        "Tuple = ('red', 'green', 'blue', 'yellow')\n",
        "print(Tuple[-2])"
      ],
      "metadata": {
        "colab": {
          "base_uri": "https://localhost:8080/"
        },
        "id": "UY_etnq2667Z",
        "outputId": "b10c6380-e0cb-4c51-c685-fe712f00a5ae"
      },
      "execution_count": 23,
      "outputs": [
        {
          "output_type": "stream",
          "name": "stdout",
          "text": [
            "blue\n"
          ]
        }
      ]
    },
    {
      "cell_type": "code",
      "source": [
        "#13. Write a code to find the minimum number in the tuple (10, 20, 5, 15).\n",
        "Tuple = (10, 20, 5, 15)\n",
        "print(min(Tuple))"
      ],
      "metadata": {
        "colab": {
          "base_uri": "https://localhost:8080/"
        },
        "id": "AfQ-OJ6zFiuT",
        "outputId": "284842bf-284d-4962-d35d-5dea028e5da4"
      },
      "execution_count": 25,
      "outputs": [
        {
          "output_type": "stream",
          "name": "stdout",
          "text": [
            "5\n"
          ]
        }
      ]
    },
    {
      "cell_type": "code",
      "source": [
        "#14. Write a code to find the index of the element \"cat\" in the tuple ('dog', 'cat', 'rabbit').\n",
        "Tuple = ('dog', 'cat', 'rabbit')\n",
        "print(Tuple.index('cat'))"
      ],
      "metadata": {
        "colab": {
          "base_uri": "https://localhost:8080/"
        },
        "id": "axDcIUfuFqyf",
        "outputId": "c1f91bad-80fb-4f22-b2e7-cb2dc9f2ec82"
      },
      "execution_count": 26,
      "outputs": [
        {
          "output_type": "stream",
          "name": "stdout",
          "text": [
            "1\n"
          ]
        }
      ]
    },
    {
      "cell_type": "code",
      "source": [
        "#15. Write a code to create a tuple containing three different fruits and check if \"kiwi\" is in it.\n",
        "Tuple = ('Apple','mango','kiwi')\n",
        "ifKiwi= 'kiwi' in Tuple\n",
        "print(ifKiwi)"
      ],
      "metadata": {
        "colab": {
          "base_uri": "https://localhost:8080/"
        },
        "id": "u94pjcSQF1fx",
        "outputId": "aeaf5c37-bcfd-47eb-b6fa-3ec9bb130f3c"
      },
      "execution_count": 27,
      "outputs": [
        {
          "output_type": "stream",
          "name": "stdout",
          "text": [
            "True\n"
          ]
        }
      ]
    },
    {
      "cell_type": "code",
      "source": [
        "#16. Write a code to create a set with the elements 'a', 'b', 'c' and print it.\n",
        "Set = {'a','b','c'}\n",
        "print(Set)"
      ],
      "metadata": {
        "colab": {
          "base_uri": "https://localhost:8080/"
        },
        "id": "rAxMZnX_F_Ns",
        "outputId": "7859a63b-90ff-4e6b-b36d-0a5bb3734ba4"
      },
      "execution_count": 28,
      "outputs": [
        {
          "output_type": "stream",
          "name": "stdout",
          "text": [
            "{'a', 'b', 'c'}\n"
          ]
        }
      ]
    },
    {
      "cell_type": "code",
      "source": [
        "#17. Write a code to clear all elements from the set {1, 2, 3, 4, 5}.\n",
        "Set =  {1, 2, 3, 4, 5}\n",
        "clearSet = Set.clear()\n",
        "print(clearSet)"
      ],
      "metadata": {
        "colab": {
          "base_uri": "https://localhost:8080/"
        },
        "id": "E-H8G-l-GIcc",
        "outputId": "6ff01944-331a-4a56-e57d-f96634c4f699"
      },
      "execution_count": 29,
      "outputs": [
        {
          "output_type": "stream",
          "name": "stdout",
          "text": [
            "None\n"
          ]
        }
      ]
    },
    {
      "cell_type": "code",
      "source": [
        "#18. Write a code to remove the element 4 from the set {1, 2, 3, 4}\n",
        "Set = {1, 2, 3, 4}\n",
        "remSet= Set.remove(4)\n",
        "print(Set)\n"
      ],
      "metadata": {
        "colab": {
          "base_uri": "https://localhost:8080/"
        },
        "id": "XcM4eiCpGSUq",
        "outputId": "8403f236-8398-421e-e882-139ccb769ae2"
      },
      "execution_count": 30,
      "outputs": [
        {
          "output_type": "stream",
          "name": "stdout",
          "text": [
            "{1, 2, 3}\n"
          ]
        }
      ]
    },
    {
      "cell_type": "code",
      "source": [
        "#19. Write a code to find the union of two sets {1, 2, 3} and {3, 4, 5}.\n",
        "set1 = {1, 2, 3}\n",
        "set2 = {3, 4, 5}\n",
        "setUnion = set1.union(set2)\n",
        "print(setUnion)"
      ],
      "metadata": {
        "colab": {
          "base_uri": "https://localhost:8080/"
        },
        "id": "-gh9y_ldGle4",
        "outputId": "5d050282-ae1d-4795-d8df-2e3cd60ceaad"
      },
      "execution_count": 31,
      "outputs": [
        {
          "output_type": "stream",
          "name": "stdout",
          "text": [
            "{1, 2, 3, 4, 5}\n"
          ]
        }
      ]
    },
    {
      "cell_type": "code",
      "source": [
        "#20. Write a code to find the intersection of two sets {1, 2, 3} and {2, 3, 4}.\n",
        "set1 = {1, 2, 3}\n",
        "set2 = {3, 4, 5}\n",
        "setIntersect= set1.intersection(set2)\n",
        "print(setIntersect)"
      ],
      "metadata": {
        "colab": {
          "base_uri": "https://localhost:8080/"
        },
        "id": "pbCVQvDWGt9J",
        "outputId": "06e60681-afd1-40cd-b9ce-04eb800eeb27"
      },
      "execution_count": 32,
      "outputs": [
        {
          "output_type": "stream",
          "name": "stdout",
          "text": [
            "{3}\n"
          ]
        }
      ]
    },
    {
      "cell_type": "code",
      "source": [
        "#21.Write a code to create a dictionary with the keys \"name\", \"age\", and \"city\", and print it.\n",
        "Dict = {'name':'Jatin', 'age':'24', 'city':'Ghaziabad'}\n",
        "print(Dict)"
      ],
      "metadata": {
        "colab": {
          "base_uri": "https://localhost:8080/"
        },
        "id": "T-dOfppJG00t",
        "outputId": "fec9fc03-4902-4744-f988-75a28eda6595"
      },
      "execution_count": 34,
      "outputs": [
        {
          "output_type": "stream",
          "name": "stdout",
          "text": [
            "{'name': 'Jatin', 'age': '24', 'city': 'Ghaziabad'}\n"
          ]
        }
      ]
    },
    {
      "cell_type": "code",
      "source": [
        "#23. Write a code to access the value associated with the key \"name\" in the dictionary {'name': 'Alice', 'age': 30}\n",
        "Dict = {'name': 'Alice', 'age': 30}\n",
        "Val = Dict['name']\n",
        "print(Val)"
      ],
      "metadata": {
        "colab": {
          "base_uri": "https://localhost:8080/"
        },
        "id": "98bciFs8HGXa",
        "outputId": "793ae585-e89f-481b-9ca9-04d05036a57d"
      },
      "execution_count": 35,
      "outputs": [
        {
          "output_type": "stream",
          "name": "stdout",
          "text": [
            "Alice\n"
          ]
        }
      ]
    },
    {
      "cell_type": "code",
      "source": [
        "#24. Write a code to remove the key \"age\" from the dictionary {'name': 'Bob', 'age': 22, 'city': 'New York'}.\n",
        "Dict = {'name': 'Bob', 'age': 22, 'city': 'New York'}\n",
        "remDic = Dict.pop('age')\n",
        "print(remDic)\n",
        "print(Dict)"
      ],
      "metadata": {
        "colab": {
          "base_uri": "https://localhost:8080/"
        },
        "id": "g8I-2a-BHc4-",
        "outputId": "8c299e2a-2c75-44fa-92df-b2160f3f4273"
      },
      "execution_count": 36,
      "outputs": [
        {
          "output_type": "stream",
          "name": "stdout",
          "text": [
            "22\n",
            "{'name': 'Bob', 'city': 'New York'}\n"
          ]
        }
      ]
    },
    {
      "cell_type": "code",
      "source": [
        "#25. Write a code to check if the key \"city\" exists in the dictionary {'name': 'Alice', 'city': 'Paris'}\n",
        "Dict = {'name': 'Alice', 'city': 'Paris'}\n",
        "Exist = 'city' in Dict\n",
        "print(Exist)"
      ],
      "metadata": {
        "colab": {
          "base_uri": "https://localhost:8080/"
        },
        "id": "eURLVXlGHokz",
        "outputId": "295e2475-a2b1-4fec-a371-b2dfae1ee87a"
      },
      "execution_count": 37,
      "outputs": [
        {
          "output_type": "stream",
          "name": "stdout",
          "text": [
            "True\n"
          ]
        }
      ]
    },
    {
      "cell_type": "code",
      "source": [
        "#26. Write a code to create a list, a tuple, and a dictionary, and print them all.\n",
        "List=['Jatin', 'Vaibhav', 'Madhav', 'Shikhar']\n",
        "Tuple=('Bharti', 'Poonam', 'Snehil', 'Shubhangi')\n",
        "Dict={'Name' : 'Ruchika', 'Age' : '28', 'Relation':'Sister'}\n",
        "print(List)\n",
        "print(Tuple)\n",
        "print(Dict)"
      ],
      "metadata": {
        "colab": {
          "base_uri": "https://localhost:8080/"
        },
        "id": "bH-mv6FPH2kz",
        "outputId": "bc430c35-0b30-4006-fd4f-e731e420600c"
      },
      "execution_count": 39,
      "outputs": [
        {
          "output_type": "stream",
          "name": "stdout",
          "text": [
            "['Jatin', 'Vaibhav', 'Madhav', 'Shikhar']\n",
            "('Bharti', 'Poonam', 'Snehil', 'Shubhangi')\n",
            "{'Name': 'Ruchika', 'Age': '28', 'Relation': 'Sister'}\n"
          ]
        }
      ]
    },
    {
      "cell_type": "code",
      "source": [
        "#27. Write a code to create a list of 5 random numbers between 1 and 100, sort it in ascending order, and print the result.(replaced)\n",
        "import random\n",
        "random_numbers = random.sample(range(1, 101), 5)\n",
        "random_numbers.sort()\n",
        "print(random_numbers)"
      ],
      "metadata": {
        "colab": {
          "base_uri": "https://localhost:8080/"
        },
        "id": "uNHjIg4RJA_k",
        "outputId": "4756ed5d-1967-400b-b3a9-4b813b4efbc0"
      },
      "execution_count": 40,
      "outputs": [
        {
          "output_type": "stream",
          "name": "stdout",
          "text": [
            "[32, 47, 48, 58, 61]\n"
          ]
        }
      ]
    },
    {
      "cell_type": "code",
      "source": [
        "#28. Write a code to create a list with strings and print the element at the third index.\n",
        "List=['Dhruv', 'Lakshya', 'Parth', 'Satyam', 'Parvesh', 'Harsh']\n",
        "thirdIndex=List[2]\n",
        "print(thirdIndex)"
      ],
      "metadata": {
        "colab": {
          "base_uri": "https://localhost:8080/"
        },
        "id": "ev2CmvHYJeh9",
        "outputId": "a7a09ead-2ba2-4910-be8c-8e27e38fefcb"
      },
      "execution_count": 45,
      "outputs": [
        {
          "output_type": "stream",
          "name": "stdout",
          "text": [
            "Parth\n"
          ]
        }
      ]
    },
    {
      "cell_type": "code",
      "source": [
        "#29. Write a code to combine two dictionaries into one and print the result.\n",
        "Dict1={'Name':'Suman', 'Age':'50'}\n",
        "Dict2={'Relation':'Mom'}\n",
        "combDict={**Dict1,**Dict2}\n",
        "print(combDict)"
      ],
      "metadata": {
        "colab": {
          "base_uri": "https://localhost:8080/"
        },
        "id": "tAAWyGoPKMhR",
        "outputId": "afda2836-90ed-4657-d6ce-b1a6eb16c1ce"
      },
      "execution_count": 46,
      "outputs": [
        {
          "output_type": "stream",
          "name": "stdout",
          "text": [
            "{'Name': 'Suman', 'Age': '50', 'Relation': 'Mom'}\n"
          ]
        }
      ]
    },
    {
      "cell_type": "code",
      "source": [
        "#30. Write a code to convert a list of strings into a set.\n",
        "List = [\"1\",\"Apple\", \"Banana\", \"Cherry\", \"Apple\", \"Banana\", \"1\"]\n",
        "Set = set(List)\n",
        "print(Set)"
      ],
      "metadata": {
        "colab": {
          "base_uri": "https://localhost:8080/"
        },
        "id": "FS3HyUrpLQ-F",
        "outputId": "af7bb7a9-5fc3-4217-ca54-327053dd3136"
      },
      "execution_count": 48,
      "outputs": [
        {
          "output_type": "stream",
          "name": "stdout",
          "text": [
            "{'Apple', '1', 'Cherry', 'Banana'}\n"
          ]
        }
      ]
    },
    {
      "cell_type": "code",
      "source": [],
      "metadata": {
        "id": "w1nZfRebLnjV"
      },
      "execution_count": null,
      "outputs": []
    }
  ]
}